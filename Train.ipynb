{
 "nbformat": 4,
 "nbformat_minor": 2,
 "metadata": {
  "language_info": {
   "name": "python",
   "codemirror_mode": {
    "name": "ipython",
    "version": 3
   }
  },
  "orig_nbformat": 2,
  "file_extension": ".py",
  "mimetype": "text/x-python",
  "name": "python",
  "npconvert_exporter": "python",
  "pygments_lexer": "ipython3",
  "version": 3
 },
 "cells": [
  {
   "cell_type": "markdown",
   "execution_count": null,
   "metadata": {},
   "outputs": [],
   "source": [
    "[pytorch LSTM 训练CIFAR10数据集\n",
    "](https://blog.csdn.net/weixin_38241876/article/details/88019984)\n",
    "## 加载数据集\n",
    "使用torchvision加载CIFAR-10数据集。CIFAR-10有50000张训练图片，10000张测试图片，共10个类别，分别是*airplane*, *automobile*, *bird*, *cat*, *dog*, *frog*, *horse*, *ship*, *truck*。"
   ]
  },
  {
   "cell_type": "code",
   "execution_count": null,
   "metadata": {},
   "outputs": [],
   "source": [
    "import torch\n",
    "import torch.nn as nn\n",
    "import torch.nn.functional as F\n",
    "import torchvision\n",
    "import torchvision.transforms as transforms\n",
    "import torch.optim as optim\n",
    "import time\n",
    "import os\n",
    "\n",
    "transform = transforms.Compose(\n",
    "    [\n",
    "        transforms.RandomHorizontalFLip(),\n",
    "        transforms.RandomGrayscale(),\n",
    "        transforms.ToTensor(),\n",
    "        transforms.Normalize((0.5, 0.5, 0.5), (0.5, 0.5, 0.5))\n",
    "    ]\n",
    ")\n",
    "\n",
    "transforms1 = transform.Compose(\n",
    "    [\n",
    "        transforms.ToTensor(),\n",
    "        transforms.Normalize((0.5, 0.5, 0.5), (0.5, 0.5, 0.5))\n",
    "    ]\n",
    ")\n",
    "\n",
    "trainset = torchvision.datasets.CIFAR10(root='./data', train=True, download=True, transform=transform)\n",
    "trainloader = torch.utils.data.DataLoader(trainset, batch_size=50, shuffle=False, num_workers==2)\n",
    "\n",
    "testset = torchvision.datasets.CIFAR10(root='./data', trian=False, download=True, transform=transform1)\n",
    "testloader = torch.utils.data.DataLoader(testset, batch_size=50, shuffle=False, num_workers=2)\n",
    "\n",
    "\n",
    "\n"
   ]
  }
 ]
}